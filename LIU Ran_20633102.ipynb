{
 "cells": [
  {
   "cell_type": "code",
   "execution_count": 31,
   "metadata": {},
   "outputs": [],
   "source": [
    "import numpy as np\n",
    "import pandas as pd\n",
    "import csv\n",
    "from sklearn.externals import joblib"
   ]
  },
  {
   "cell_type": "code",
   "execution_count": 32,
   "metadata": {},
   "outputs": [
    {
     "name": "stdout",
     "output_type": "stream",
     "text": [
      "train_size:357\n",
      "test_size:90\n"
     ]
    }
   ],
   "source": [
    "# read in train dataset and test dataset\n",
    "train = pd.read_csv('train.csv')\n",
    "test = pd.read_csv('test.csv')\n",
    "train_size = train.shape[0]\n",
    "test_size = test.shape[0]\n",
    "print(\"train_size:%d\" % (train_size))\n",
    "print(\"test_size:%d\" % (test_size))"
   ]
  },
  {
   "cell_type": "code",
   "execution_count": 33,
   "metadata": {},
   "outputs": [
    {
     "name": "stdout",
     "output_type": "stream",
     "text": [
      "训练集：purchase_date, 第[5, 76]行位置有缺失值\n",
      "训练集：total_positive_reviews, 第[5, 76]行位置有缺失值\n",
      "训练集：total_negative_reviews, 第[5, 76]行位置有缺失值\n",
      "测试集：purchase_date, 第[12, 45]行位置有缺失值\n",
      "测试集：total_positive_reviews, 第[12, 45]行位置有缺失值\n",
      "测试集：total_negative_reviews, 第[12, 45]行位置有缺失值\n",
      "train_size:355\n",
      "test_size:88\n"
     ]
    }
   ],
   "source": [
    "# detecting missing values\n",
    "for columname in train.columns:\n",
    "    if train[columname].count() != len(train):\n",
    "        loc = train[columname][train[columname].isnull().values==True].index.tolist()\n",
    "        print('训练集：{}, 第{}行位置有缺失值'.format(columname,loc))\n",
    "for columname in test.columns:\n",
    "    if test[columname].count() != len(test):\n",
    "        loc = test[columname][test[columname].isnull().values==True].index.tolist()\n",
    "        print('测试集：{}, 第{}行位置有缺失值'.format(columname,loc))\n",
    "\n",
    "# missing value processing\n",
    "# drop two columns in train dataset and two columns in test dataset\n",
    "train.dropna(axis=0, how='any', inplace=True)\n",
    "test.dropna(axis=0, how='any', inplace=True)\n",
    "train_size = train.shape[0]\n",
    "test_size = test.shape[0]\n",
    "print(\"train_size:%d\" % (train_size))\n",
    "print(\"test_size:%d\" % (test_size))"
   ]
  },
  {
   "cell_type": "code",
   "execution_count": 34,
   "metadata": {},
   "outputs": [
    {
     "name": "stdout",
     "output_type": "stream",
     "text": [
      "<class 'pandas.core.frame.DataFrame'>\n",
      "Int64Index: 443 entries, 0 to 89\n",
      "Data columns (total 9 columns):\n",
      "is_free                   443 non-null bool\n",
      "price                     443 non-null float64\n",
      "genres                    443 non-null object\n",
      "categories                443 non-null object\n",
      "tags                      443 non-null object\n",
      "purchase_date             443 non-null object\n",
      "release_date              443 non-null object\n",
      "total_positive_reviews    443 non-null float64\n",
      "total_negative_reviews    443 non-null float64\n",
      "dtypes: bool(1), float64(3), object(5)\n",
      "memory usage: 31.6+ KB\n"
     ]
    }
   ],
   "source": [
    "# create a dataframe containing training and test sets, drop column ['id']\n",
    "y_train = train['playtime_forever']\n",
    "train = train[test.columns]\n",
    "df = train.append(test)\n",
    "df.drop(['id'], axis = 1, inplace = True)\n",
    "df.info()"
   ]
  },
  {
   "cell_type": "code",
   "execution_count": 35,
   "metadata": {
    "scrolled": false
   },
   "outputs": [
    {
     "name": "stdout",
     "output_type": "stream",
     "text": [
      "genres_num:20\n",
      "categories_num:29\n",
      "tags_num:317\n"
     ]
    }
   ],
   "source": [
    "# split the three columns geners, categories and tags with a comma as a separator \n",
    "# to get a dictionary of all words in each column\n",
    "genres = {}\n",
    "categories = {}\n",
    "tags = {}\n",
    "for x in df['genres']:\n",
    "    tmp = x.split(',')\n",
    "    for y in tmp:\n",
    "        if y in genres:\n",
    "            genres[y] = genres[y] + 1\n",
    "        else:\n",
    "            genres[y] = 1\n",
    "\n",
    "for x in df['categories']:\n",
    "    tmp = x.split(',')\n",
    "    for y in tmp:\n",
    "        if y in categories:\n",
    "            categories[y] = categories[y] + 1\n",
    "        else:\n",
    "            categories[y] = 1\n",
    "\n",
    "for x in df['tags']:\n",
    "    tmp = x.split(',')\n",
    "    for y in tmp:\n",
    "        if y in tags:\n",
    "            tags[y] = tags[y] + 1\n",
    "        else:\n",
    "            tags[y] = 1\n",
    "\n",
    "print(\"genres_num:%d\" % (len(genres)))\n",
    "print(\"categories_num:%d\" % (len(categories)))\n",
    "print(\"tags_num:%d\" % (len(tags)))"
   ]
  },
  {
   "cell_type": "code",
   "execution_count": 36,
   "metadata": {},
   "outputs": [],
   "source": [
    "# use the dictionary obtained in the previous step to encode the three columns. \n",
    "# one-hot encoding is used, and words that occur less than 1/10 of the size of the dataset are directly discarded.\n",
    "for key in genres:\n",
    "    if(genres[key] < 45):\n",
    "         continue\n",
    "    tmp = []\n",
    "    for x in df['genres']:\n",
    "        if key in x:\n",
    "            tmp.append(1)\n",
    "        else:\n",
    "            tmp.append(0)\n",
    "    df[key] = tmp\n",
    "df = df.drop(['genres'], axis = 1)\n",
    "    \n",
    "for key in categories:\n",
    "    if(categories[key] < 45):\n",
    "         continue\n",
    "    tmp = []\n",
    "    for x in df['categories']:\n",
    "        if key in x:\n",
    "            tmp.append(1)\n",
    "        else:\n",
    "            tmp.append(0)\n",
    "    df[key] = tmp\n",
    "df.drop(['categories'], axis = 1, inplace = True)\n",
    "\n",
    "for key in tags:\n",
    "    if(tags[key] < 45):\n",
    "         continue\n",
    "    tmp = []\n",
    "    for x in df['tags']:\n",
    "        if key in x:\n",
    "            tmp.append(1)\n",
    "        else:\n",
    "            tmp.append(0)\n",
    "    df[key] = tmp\n",
    "df = df.drop(['tags'], axis = 1)"
   ]
  },
  {
   "cell_type": "code",
   "execution_count": 37,
   "metadata": {},
   "outputs": [],
   "source": [
    "month = {'Jan':1,'Feb':2,'Mar':3,'Apr':4,'May':5,'Jun':6,'Jul':7,'Aug':8,'Sep':9,'Oct':10,'Nov':11,'Dec':12}"
   ]
  },
  {
   "cell_type": "code",
   "execution_count": 38,
   "metadata": {
    "scrolled": false
   },
   "outputs": [],
   "source": [
    "# purchase date processing, directly divided into three columns of year, month and day\n",
    "purchase_date_year = []\n",
    "purchase_date_month = []\n",
    "purchase_date_day = []\n",
    "for x in df['purchase_date']:\n",
    "        tmp = x.split(' ')\n",
    "        purchase_date_month.append(month[tmp[0]])\n",
    "        purchase_date_day.append(int(tmp[1][:-1]))\n",
    "        purchase_date_year.append(int(tmp[2]))\n",
    "df['purchase_date_year'] = purchase_date_year\n",
    "df['purchase_date_month'] = purchase_date_month\n",
    "df['purchase_date_day'] = purchase_date_day\n",
    "df = df.drop(['purchase_date'], axis = 1)"
   ]
  },
  {
   "cell_type": "code",
   "execution_count": 39,
   "metadata": {
    "scrolled": true
   },
   "outputs": [],
   "source": [
    "# release date processing, directly divided into three columns of year, month and day\n",
    "release_date_year = []\n",
    "release_date_month = []\n",
    "release_date_day = []\n",
    "for x in df['release_date'][:train_size]:\n",
    "    if x == \"Nov 10, 2016\":\n",
    "        release_date_month.append(11)\n",
    "        release_date_day.append(10)\n",
    "        release_date_year.append(2016)\n",
    "    else:\n",
    "        tmp = x.split(' ')\n",
    "        release_date_day.append(int(tmp[0]))\n",
    "        release_date_month.append(month[tmp[1][:-1]])\n",
    "        release_date_year.append(int(tmp[2]))\n",
    "for x in df['release_date'][train_size:]:\n",
    "        tmp = x.split('-')\n",
    "        release_date_day.append(int(tmp[0]))\n",
    "        release_date_month.append(month[tmp[1]])\n",
    "        release_date_year.append(2000 + int(tmp[2]))\n",
    "    \n",
    "df['release_date_year'] = release_date_year\n",
    "df['release_date_month'] = release_date_month\n",
    "df['release_date_day'] = release_date_day\n",
    "df = df.drop(['release_date'], axis = 1)"
   ]
  },
  {
   "cell_type": "code",
   "execution_count": 40,
   "metadata": {},
   "outputs": [
    {
     "name": "stdout",
     "output_type": "stream",
     "text": [
      "<class 'pandas.core.frame.DataFrame'>\n",
      "Int64Index: 443 entries, 0 to 89\n",
      "Data columns (total 61 columns):\n",
      "is_free                       443 non-null bool\n",
      "price                         443 non-null float64\n",
      "total_positive_reviews        443 non-null float64\n",
      "total_negative_reviews        443 non-null float64\n",
      "Adventure                     443 non-null int64\n",
      "Casual                        443 non-null int64\n",
      "Indie                         443 non-null int64\n",
      "RPG                           443 non-null int64\n",
      "Action                        443 non-null int64\n",
      "Strategy                      443 non-null int64\n",
      "Simulation                    443 non-null int64\n",
      "Single-player                 443 non-null int64\n",
      "Steam Trading Cards           443 non-null int64\n",
      "Steam Cloud                   443 non-null int64\n",
      "Partial Controller Support    443 non-null int64\n",
      "Full controller support       443 non-null int64\n",
      "Multi-player                  443 non-null int64\n",
      "Steam Achievements            443 non-null int64\n",
      "Steam Workshop                443 non-null int64\n",
      "Co-op                         443 non-null int64\n",
      "Steam Leaderboards            443 non-null int64\n",
      "Online Multi-Player           443 non-null int64\n",
      "Online Co-op                  443 non-null int64\n",
      "Includes level editor         443 non-null int64\n",
      "Story Rich                    443 non-null int64\n",
      "Atmospheric                   443 non-null int64\n",
      "Exploration                   443 non-null int64\n",
      "First-Person                  443 non-null int64\n",
      "Choices Matter                443 non-null int64\n",
      "Singleplayer                  443 non-null int64\n",
      "Point & Click                 443 non-null int64\n",
      "Comedy                        443 non-null int64\n",
      "Funny                         443 non-null int64\n",
      "Great Soundtrack              443 non-null int64\n",
      "Puzzle                        443 non-null int64\n",
      "Female Protagonist            443 non-null int64\n",
      "2D                            443 non-null int64\n",
      "Masterpiece                   443 non-null int64\n",
      "Classic                       443 non-null int64\n",
      "Sci-fi                        443 non-null int64\n",
      "Open World                    443 non-null int64\n",
      "Sandbox                       443 non-null int64\n",
      "Multiplayer                   443 non-null int64\n",
      "Third Person                  443 non-null int64\n",
      "Fantasy                       443 non-null int64\n",
      "Online Co-Op                  443 non-null int64\n",
      "Shooter                       443 non-null int64\n",
      "Gore                          443 non-null int64\n",
      "Difficult                     443 non-null int64\n",
      "VR                            443 non-null int64\n",
      "FPS                           443 non-null int64\n",
      "Platformer                    443 non-null int64\n",
      "Horror                        443 non-null int64\n",
      "Early Access                  443 non-null int64\n",
      "Survival                      443 non-null int64\n",
      "purchase_date_year            443 non-null int64\n",
      "purchase_date_month           443 non-null int64\n",
      "purchase_date_day             443 non-null int64\n",
      "release_date_year             443 non-null int64\n",
      "release_date_month            443 non-null int64\n",
      "release_date_day              443 non-null int64\n",
      "dtypes: bool(1), float64(3), int64(57)\n",
      "memory usage: 211.5 KB\n"
     ]
    }
   ],
   "source": [
    "df.info()"
   ]
  },
  {
   "cell_type": "code",
   "execution_count": 43,
   "metadata": {
    "scrolled": true
   },
   "outputs": [
    {
     "name": "stdout",
     "output_type": "stream",
     "text": [
      "[ 0.          5.23116667  0.          0.          3.93066667  1.54316667\n",
      "  0.          0.          1.05233333  5.80633333  0.          0.\n",
      "  0.          1.786       3.00116667  0.          1.5895      1.73266667\n",
      "  1.49083333  0.          0.97383333  1.57983333  2.27083333  0.68216667\n",
      "  0.68433333  0.          0.          0.75966667  1.09283333  1.8195\n",
      "  2.608      13.91366667  0.          0.78733333  4.83716667  0.535\n",
      "  4.15383333  9.99633333  1.14266667  1.02666667  3.31333333  0.6445\n",
      "  2.85333333  1.06433333  0.79916667  0.          0.5525      0.\n",
      "  2.39533333 12.545       1.21166667  0.          1.63283333  0.\n",
      "  0.79716667  0.          1.98016667  1.17516667  1.0705      1.62716667\n",
      "  0.512       0.          0.         14.764       0.          0.\n",
      "  0.6405      0.          0.74333333  0.56        0.9085     24.03483333\n",
      "  1.79283333 34.09966667  0.54333333 42.05766667  4.25266667  2.14516667\n",
      "  1.58766667  0.93433333  0.          1.1185      0.          8.8085\n",
      "  8.67        0.5115      0.          4.15233333  1.08833333  4.50016667]\n"
     ]
    }
   ],
   "source": [
    "# training code\n",
    "# use sklearn library's random forest algorithm to process regression task\n",
    "x_train = df[:train_size]\n",
    "x_test = df[train_size:]\n",
    "from sklearn.ensemble import RandomForestRegressor\n",
    "myrfr = RandomForestRegressor(\n",
    "    n_estimators = 100, \n",
    "    bootstrap = True,\n",
    "    oob_score = True,\n",
    "    min_samples_leaf = 1,\n",
    "    min_samples_split = 2\n",
    ")\n",
    "myrfr.fit(x_train, y_train)\n",
    "joblib.dump(myrfr, 'myrfr.pkl')\n",
    "y_test = myrfr.predict(x_test)\n",
    "y_test = np.insert(y_test,12,0)\n",
    "y_test = np.insert(y_test,45,0)\n",
    "for i in range(0, len(y_test)):\n",
    "    if(y_test[i] <= 0.5): y_test[i] = 0\n",
    "    \n",
    "print(y_test)"
   ]
  },
  {
   "cell_type": "code",
   "execution_count": 44,
   "metadata": {},
   "outputs": [
    {
     "name": "stdout",
     "output_type": "stream",
     "text": [
      "[ 0.21316667  5.23116667  0.          0.2795      3.93066667  1.54316667\n",
      "  0.20366667  0.14683333  1.05233333  5.80633333  0.32983333  0.37066667\n",
      "  0.          1.786       3.00116667  0.4555      1.5895      1.73266667\n",
      "  1.49083333  0.1295      0.97383333  1.57983333  2.27083333  0.68216667\n",
      "  0.68433333  0.36        0.44933333  0.75966667  1.09283333  1.8195\n",
      "  2.608      13.91366667  0.47566667  0.78733333  4.83716667  0.535\n",
      "  4.15383333  9.99633333  1.14266667  1.02666667  3.31333333  0.6445\n",
      "  2.85333333  1.06433333  0.79916667  0.          0.5525      0.40683333\n",
      "  2.39533333 12.545       1.21166667  0.35283333  1.63283333  0.36933333\n",
      "  0.79716667  0.451       1.98016667  1.17516667  1.0705      1.62716667\n",
      "  0.512       0.11966667  0.22266667 14.764       0.131       0.38216667\n",
      "  0.6405      0.49366667  0.74333333  0.56        0.9085     24.03483333\n",
      "  1.79283333 34.09966667  0.54333333 42.05766667  4.25266667  2.14516667\n",
      "  1.58766667  0.93433333  0.          1.1185      0.          8.8085\n",
      "  8.67        0.5115      0.48133333  4.15233333  1.08833333  4.50016667]\n"
     ]
    }
   ],
   "source": [
    "# if you want to use the saved model, use this code\n",
    "myrfr = joblib.load('myrfr.pkl')\n",
    "y_test = myrfr.predict(x_test)\n",
    "y_test = np.insert(y_test,12,0)\n",
    "y_test = np.insert(y_test,45,0)\n",
    "for i in range(0, len(y_test)):\n",
    "    if(y_test[i] <= 0.1): y_test[i] = 0\n",
    "print(y_test)"
   ]
  },
  {
   "cell_type": "code",
   "execution_count": 45,
   "metadata": {
    "scrolled": true
   },
   "outputs": [],
   "source": [
    "# save prediction results and output\n",
    "y_test = pd.DataFrame(y_test)\n",
    "y_test = y_test.reset_index()\n",
    "y_test.columns = ['id', 'playtime_forever']\n",
    "y_test.to_csv(\"mysubmission.csv\", index = False)"
   ]
  }
 ],
 "metadata": {
  "kernelspec": {
   "display_name": "Python 3",
   "language": "python",
   "name": "python3"
  },
  "language_info": {
   "codemirror_mode": {
    "name": "ipython",
    "version": 3
   },
   "file_extension": ".py",
   "mimetype": "text/x-python",
   "name": "python",
   "nbconvert_exporter": "python",
   "pygments_lexer": "ipython3",
   "version": "3.7.3"
  }
 },
 "nbformat": 4,
 "nbformat_minor": 2
}
